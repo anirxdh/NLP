{
 "cells": [
  {
   "cell_type": "code",
   "execution_count": 1,
   "metadata": {},
   "outputs": [],
   "source": [
    "sent = \"Ever since SEBI mandated mutual fund houses to disclose how much fund managers, directors of the asset management company and other key employees invest their own money into their schemes, the data has become an important parameter to rate overall stewardship of funds.\""
   ]
  },
  {
   "cell_type": "code",
   "execution_count": 2,
   "metadata": {},
   "outputs": [
    {
     "data": {
      "text/plain": [
       "'Ever since SEBI mandated mutual fund houses to disclose how much fund managers, directors of the asset management company and other key employees invest their own money into their schemes, the data has become an important parameter to rate overall stewardship of funds.'"
      ]
     },
     "execution_count": 2,
     "metadata": {},
     "output_type": "execute_result"
    }
   ],
   "source": [
    "sent"
   ]
  },
  {
   "cell_type": "code",
   "execution_count": 3,
   "metadata": {},
   "outputs": [],
   "source": [
    "from nltk import word_tokenize\n",
    "sent_tokenize = word_tokenize(sent)"
   ]
  },
  {
   "cell_type": "code",
   "execution_count": 4,
   "metadata": {},
   "outputs": [
    {
     "data": {
      "text/plain": [
       "['Ever',\n",
       " 'since',\n",
       " 'SEBI',\n",
       " 'mandated',\n",
       " 'mutual',\n",
       " 'fund',\n",
       " 'houses',\n",
       " 'to',\n",
       " 'disclose',\n",
       " 'how',\n",
       " 'much',\n",
       " 'fund',\n",
       " 'managers',\n",
       " ',',\n",
       " 'directors',\n",
       " 'of',\n",
       " 'the',\n",
       " 'asset',\n",
       " 'management',\n",
       " 'company',\n",
       " 'and',\n",
       " 'other',\n",
       " 'key',\n",
       " 'employees',\n",
       " 'invest',\n",
       " 'their',\n",
       " 'own',\n",
       " 'money',\n",
       " 'into',\n",
       " 'their',\n",
       " 'schemes',\n",
       " ',',\n",
       " 'the',\n",
       " 'data',\n",
       " 'has',\n",
       " 'become',\n",
       " 'an',\n",
       " 'important',\n",
       " 'parameter',\n",
       " 'to',\n",
       " 'rate',\n",
       " 'overall',\n",
       " 'stewardship',\n",
       " 'of',\n",
       " 'funds',\n",
       " '.']"
      ]
     },
     "execution_count": 4,
     "metadata": {},
     "output_type": "execute_result"
    }
   ],
   "source": [
    "sent_tokenize"
   ]
  },
  {
   "cell_type": "code",
   "execution_count": 5,
   "metadata": {},
   "outputs": [],
   "source": [
    "from textblob import TextBlob as tb"
   ]
  },
  {
   "cell_type": "code",
   "execution_count": 6,
   "metadata": {},
   "outputs": [],
   "source": [
    "blob = tb(sent)"
   ]
  },
  {
   "cell_type": "code",
   "execution_count": 7,
   "metadata": {},
   "outputs": [
    {
     "data": {
      "text/plain": [
       "TextBlob(\"Ever since SEBI mandated mutual fund houses to disclose how much fund managers, directors of the asset management company and other key employees invest their own money into their schemes, the data has become an important parameter to rate overall stewardship of funds.\")"
      ]
     },
     "execution_count": 7,
     "metadata": {},
     "output_type": "execute_result"
    }
   ],
   "source": [
    "blob"
   ]
  },
  {
   "cell_type": "code",
   "execution_count": 8,
   "metadata": {},
   "outputs": [
    {
     "data": {
      "text/plain": [
       "WordList(['Ever', 'since', 'SEBI', 'mandated', 'mutual', 'fund', 'houses', 'to', 'disclose', 'how', 'much', 'fund', 'managers', 'directors', 'of', 'the', 'asset', 'management', 'company', 'and', 'other', 'key', 'employees', 'invest', 'their', 'own', 'money', 'into', 'their', 'schemes', 'the', 'data', 'has', 'become', 'an', 'important', 'parameter', 'to', 'rate', 'overall', 'stewardship', 'of', 'funds'])"
      ]
     },
     "execution_count": 8,
     "metadata": {},
     "output_type": "execute_result"
    }
   ],
   "source": [
    "blob.words"
   ]
  },
  {
   "cell_type": "code",
   "execution_count": 10,
   "metadata": {},
   "outputs": [
    {
     "data": {
      "text/plain": [
       "['Ever',\n",
       " 'since',\n",
       " 'SEBI',\n",
       " 'mandated',\n",
       " 'mutual',\n",
       " 'fund',\n",
       " 'houses',\n",
       " 'to',\n",
       " 'disclose',\n",
       " 'how',\n",
       " 'much',\n",
       " 'fund',\n",
       " 'managers',\n",
       " 'directors',\n",
       " 'of',\n",
       " 'the',\n",
       " 'asset',\n",
       " 'management',\n",
       " 'company',\n",
       " 'and',\n",
       " 'other',\n",
       " 'key',\n",
       " 'employees',\n",
       " 'invest',\n",
       " 'their',\n",
       " 'own',\n",
       " 'money',\n",
       " 'into',\n",
       " 'their',\n",
       " 'schemes',\n",
       " 'the',\n",
       " 'data',\n",
       " 'has',\n",
       " 'become',\n",
       " 'an',\n",
       " 'important',\n",
       " 'parameter',\n",
       " 'to',\n",
       " 'rate',\n",
       " 'overall',\n",
       " 'stewardship',\n",
       " 'of',\n",
       " 'funds']"
      ]
     },
     "execution_count": 10,
     "metadata": {},
     "output_type": "execute_result"
    }
   ],
   "source": [
    "#this is a wordList can't access say third element\n",
    "#therfore convert to python list \n",
    "words = list(blob.words)\n",
    "words"
   ]
  },
  {
   "cell_type": "code",
   "execution_count": 22,
   "metadata": {},
   "outputs": [],
   "source": [
    "#https://paste.ee/p/X96jr\n",
    "para = \"In the realm of Sentiment analysis, the main goal would be to classify the polarity of a given text at different levels —whether the expressed opinion in a document, a sentence or an entity feature/aspect is positive, negative, or neutral. For achieving this goal (polarity classification), you can see the whole process as a pipeline including different stages that can contribute to the accuracy of ending results. Subjectivity/objectivity identification can be seen as one of those stages that is commonly defined as classifying a given text (usually a sentence) into one of two classes: objective or subjective. For example, some researches showed that removing objective sentences from a document before classifying its polarity helped improve performance. Note that there are unique challenges for subjectivity detection: The subjectivity of words and phrases may depend on their context and an objective document may contain subjective sentences (e.g., a news article quoting people's opinions).\""
   ]
  },
  {
   "cell_type": "code",
   "execution_count": 23,
   "metadata": {},
   "outputs": [
    {
     "data": {
      "text/plain": [
       "\"In the realm of Sentiment analysis, the main goal would be to classify the polarity of a given text at different levels —whether the expressed opinion in a document, a sentence or an entity feature/aspect is positive, negative, or neutral. For achieving this goal (polarity classification), you can see the whole process as a pipeline including different stages that can contribute to the accuracy of ending results. Subjectivity/objectivity identification can be seen as one of those stages that is commonly defined as classifying a given text (usually a sentence) into one of two classes: objective or subjective. For example, some researches showed that removing objective sentences from a document before classifying its polarity helped improve performance. Note that there are unique challenges for subjectivity detection: The subjectivity of words and phrases may depend on their context and an objective document may contain subjective sentences (e.g., a news article quoting people's opinions).\""
      ]
     },
     "execution_count": 23,
     "metadata": {},
     "output_type": "execute_result"
    }
   ],
   "source": [
    "para"
   ]
  },
  {
   "cell_type": "code",
   "execution_count": 24,
   "metadata": {},
   "outputs": [
    {
     "data": {
      "text/plain": [
       "[Sentence(\"In the realm of Sentiment analysis, the main goal would be to classify the polarity of a given text at different levels —whether the expressed opinion in a document, a sentence or an entity feature/aspect is positive, negative, or neutral.\"),\n",
       " Sentence(\"For achieving this goal (polarity classification), you can see the whole process as a pipeline including different stages that can contribute to the accuracy of ending results.\"),\n",
       " Sentence(\"Subjectivity/objectivity identification can be seen as one of those stages that is commonly defined as classifying a given text (usually a sentence) into one of two classes: objective or subjective.\"),\n",
       " Sentence(\"For example, some researches showed that removing objective sentences from a document before classifying its polarity helped improve performance.\"),\n",
       " Sentence(\"Note that there are unique challenges for subjectivity detection: The subjectivity of words and phrases may depend on their context and an objective document may contain subjective sentences (e.g., a news article quoting people's opinions).\")]"
      ]
     },
     "execution_count": 24,
     "metadata": {},
     "output_type": "execute_result"
    }
   ],
   "source": [
    "blob = tb(para)\n",
    "blob.sentences"
   ]
  },
  {
   "cell_type": "code",
   "execution_count": 25,
   "metadata": {},
   "outputs": [
    {
     "data": {
      "text/plain": [
       "Sentiment(polarity=0.525, subjectivity=0.875)"
      ]
     },
     "execution_count": 25,
     "metadata": {},
     "output_type": "execute_result"
    }
   ],
   "source": [
    "opinion = \"I like the iPhone. It's a pretty great phone.\"\n",
    "blob = tb(opinion)\n",
    "blob.sentiment"
   ]
  },
  {
   "cell_type": "code",
   "execution_count": 28,
   "metadata": {},
   "outputs": [
    {
     "data": {
      "text/plain": [
       "Sentiment(polarity=0.009911616161616163, subjectivity=0.4107323232323232)"
      ]
     },
     "execution_count": 28,
     "metadata": {},
     "output_type": "execute_result"
    }
   ],
   "source": [
    "tb(para).sentiment"
   ]
  },
  {
   "cell_type": "code",
   "execution_count": 29,
   "metadata": {},
   "outputs": [
    {
     "data": {
      "text/plain": [
       "[('In', 'IN'),\n",
       " ('the', 'DT'),\n",
       " ('realm', 'NN'),\n",
       " ('of', 'IN'),\n",
       " ('Sentiment', 'NNP'),\n",
       " ('analysis', 'NN'),\n",
       " ('the', 'DT'),\n",
       " ('main', 'JJ'),\n",
       " ('goal', 'NN'),\n",
       " ('would', 'MD'),\n",
       " ('be', 'VB'),\n",
       " ('to', 'TO'),\n",
       " ('classify', 'VB'),\n",
       " ('the', 'DT'),\n",
       " ('polarity', 'NN'),\n",
       " ('of', 'IN'),\n",
       " ('a', 'DT'),\n",
       " ('given', 'VBN'),\n",
       " ('text', 'NN'),\n",
       " ('at', 'IN'),\n",
       " ('different', 'JJ'),\n",
       " ('levels', 'NNS'),\n",
       " ('—whether', 'VBP'),\n",
       " ('the', 'DT'),\n",
       " ('expressed', 'JJ'),\n",
       " ('opinion', 'NN'),\n",
       " ('in', 'IN'),\n",
       " ('a', 'DT'),\n",
       " ('document', 'NN'),\n",
       " ('a', 'DT'),\n",
       " ('sentence', 'NN'),\n",
       " ('or', 'CC'),\n",
       " ('an', 'DT'),\n",
       " ('entity', 'NN'),\n",
       " ('feature/aspect', 'NN'),\n",
       " ('is', 'VBZ'),\n",
       " ('positive', 'JJ'),\n",
       " ('negative', 'JJ'),\n",
       " ('or', 'CC'),\n",
       " ('neutral', 'JJ'),\n",
       " ('For', 'IN'),\n",
       " ('achieving', 'VBG'),\n",
       " ('this', 'DT'),\n",
       " ('goal', 'NN'),\n",
       " ('polarity', 'JJ'),\n",
       " ('classification', 'NN'),\n",
       " ('you', 'PRP'),\n",
       " ('can', 'MD'),\n",
       " ('see', 'VB'),\n",
       " ('the', 'DT'),\n",
       " ('whole', 'JJ'),\n",
       " ('process', 'NN'),\n",
       " ('as', 'IN'),\n",
       " ('a', 'DT'),\n",
       " ('pipeline', 'NN'),\n",
       " ('including', 'VBG'),\n",
       " ('different', 'JJ'),\n",
       " ('stages', 'NNS'),\n",
       " ('that', 'WDT'),\n",
       " ('can', 'MD'),\n",
       " ('contribute', 'VB'),\n",
       " ('to', 'TO'),\n",
       " ('the', 'DT'),\n",
       " ('accuracy', 'NN'),\n",
       " ('of', 'IN'),\n",
       " ('ending', 'VBG'),\n",
       " ('results', 'NNS'),\n",
       " ('Subjectivity/objectivity', 'NNP'),\n",
       " ('identification', 'NN'),\n",
       " ('can', 'MD'),\n",
       " ('be', 'VB'),\n",
       " ('seen', 'VBN'),\n",
       " ('as', 'IN'),\n",
       " ('one', 'CD'),\n",
       " ('of', 'IN'),\n",
       " ('those', 'DT'),\n",
       " ('stages', 'NNS'),\n",
       " ('that', 'WDT'),\n",
       " ('is', 'VBZ'),\n",
       " ('commonly', 'RB'),\n",
       " ('defined', 'VBN'),\n",
       " ('as', 'IN'),\n",
       " ('classifying', 'VBG'),\n",
       " ('a', 'DT'),\n",
       " ('given', 'VBN'),\n",
       " ('text', 'NN'),\n",
       " ('usually', 'RB'),\n",
       " ('a', 'DT'),\n",
       " ('sentence', 'NN'),\n",
       " ('into', 'IN'),\n",
       " ('one', 'CD'),\n",
       " ('of', 'IN'),\n",
       " ('two', 'CD'),\n",
       " ('classes', 'NNS'),\n",
       " ('objective', 'NN'),\n",
       " ('or', 'CC'),\n",
       " ('subjective', 'NN'),\n",
       " ('For', 'IN'),\n",
       " ('example', 'NN'),\n",
       " ('some', 'DT'),\n",
       " ('researches', 'NNS'),\n",
       " ('showed', 'VBD'),\n",
       " ('that', 'IN'),\n",
       " ('removing', 'VBG'),\n",
       " ('objective', 'JJ'),\n",
       " ('sentences', 'NNS'),\n",
       " ('from', 'IN'),\n",
       " ('a', 'DT'),\n",
       " ('document', 'NN'),\n",
       " ('before', 'IN'),\n",
       " ('classifying', 'VBG'),\n",
       " ('its', 'PRP$'),\n",
       " ('polarity', 'NN'),\n",
       " ('helped', 'VBD'),\n",
       " ('improve', 'VB'),\n",
       " ('performance', 'NN'),\n",
       " ('Note', 'NN'),\n",
       " ('that', 'IN'),\n",
       " ('there', 'EX'),\n",
       " ('are', 'VBP'),\n",
       " ('unique', 'JJ'),\n",
       " ('challenges', 'NNS'),\n",
       " ('for', 'IN'),\n",
       " ('subjectivity', 'NN'),\n",
       " ('detection', 'NN'),\n",
       " ('The', 'DT'),\n",
       " ('subjectivity', 'NN'),\n",
       " ('of', 'IN'),\n",
       " ('words', 'NNS'),\n",
       " ('and', 'CC'),\n",
       " ('phrases', 'NNS'),\n",
       " ('may', 'MD'),\n",
       " ('depend', 'VB'),\n",
       " ('on', 'IN'),\n",
       " ('their', 'PRP$'),\n",
       " ('context', 'NN'),\n",
       " ('and', 'CC'),\n",
       " ('an', 'DT'),\n",
       " ('objective', 'JJ'),\n",
       " ('document', 'NN'),\n",
       " ('may', 'MD'),\n",
       " ('contain', 'VB'),\n",
       " ('subjective', 'JJ'),\n",
       " ('sentences', 'NNS'),\n",
       " ('e.g.', 'NN'),\n",
       " ('a', 'DT'),\n",
       " ('news', 'NN'),\n",
       " ('article', 'NN'),\n",
       " ('quoting', 'VBG'),\n",
       " ('people', 'NNS'),\n",
       " (\"'s\", 'POS'),\n",
       " ('opinions', 'NNS')]"
      ]
     },
     "execution_count": 29,
     "metadata": {},
     "output_type": "execute_result"
    }
   ],
   "source": [
    "blob = tb(para)\n",
    "blob.tags"
   ]
  },
  {
   "cell_type": "code",
   "execution_count": 30,
   "metadata": {},
   "outputs": [
    {
     "data": {
      "text/plain": [
       "WordList(['sentiment', 'main goal', 'different levels —whether', 'entity feature/aspect', 'polarity classification', 'whole process', 'different stages', 'subjectivity/objectivity', 'objective sentences', 'subjectivity detection', 'objective document', 'subjective sentences', 'news article', \"people 's opinions\"])"
      ]
     },
     "execution_count": 30,
     "metadata": {},
     "output_type": "execute_result"
    }
   ],
   "source": [
    "blob.noun_phrases"
   ]
  },
  {
   "cell_type": "code",
   "execution_count": 31,
   "metadata": {},
   "outputs": [],
   "source": [
    "text = \"In late July 2018, severe flooding affected the south Indian state of Kerala due to unusually high rainfall during the monsoon season. It was the worst flooding in Kerala in nearly a century.[2] Over 322 people died, 15 are missing[3] within a fortnight, while at least a million [4][5] people were evacuated, mainly from Chengannur,[6] Pandanad,[7] Aranmula, Aluva, Chalakudy, Kuttanad and Pandalam. All 14 districts of the state were placed on red alert.[8][9] According to the Kerala government, one-sixth of the total population of Kerala had been directly affected by the floods and related incidents.[10] The Union government had declared it a Level 3 Calamity or 'Calamity of a severe nature'\""
   ]
  },
  {
   "cell_type": "code",
   "execution_count": 32,
   "metadata": {},
   "outputs": [
    {
     "data": {
      "text/plain": [
       "WordList(['july', 'indian state', 'kerala', 'high rainfall', 'monsoon season', 'kerala', '] [', '] people', 'chengannur', 'pandanad', 'aranmula', 'aluva', 'chalakudy', 'kuttanad', 'pandalam', '] [', 'according', 'kerala', 'total population', 'kerala', 'union government', 'level', 'calamity', 'severe nature'])"
      ]
     },
     "execution_count": 32,
     "metadata": {},
     "output_type": "execute_result"
    }
   ],
   "source": [
    "tb(text).noun_phrases"
   ]
  },
  {
   "cell_type": "code",
   "execution_count": 33,
   "metadata": {},
   "outputs": [
    {
     "data": {
      "text/plain": [
       "Sentiment(polarity=-0.10893939393939393, subjectivity=0.47257575757575765)"
      ]
     },
     "execution_count": 33,
     "metadata": {},
     "output_type": "execute_result"
    }
   ],
   "source": [
    "tb(text).sentiment"
   ]
  },
  {
   "cell_type": "markdown",
   "metadata": {},
   "source": [
    "#training \n",
    "\n",
    "#testing\n",
    "\n",
    "from textblob import classifiers\n",
    "clf = classifiers.NaiveBayesClass(training)\n",
    "blolb = tb(\"the weather is terrible\", classifier=clf)\n",
    "print(blob.classify())\n"
   ]
  },
  {
   "cell_type": "code",
   "execution_count": 35,
   "metadata": {},
   "outputs": [
    {
     "name": "stdout",
     "output_type": "stream",
     "text": [
      "*** Introductory Examples for the NLTK Book ***\n",
      "Loading text1, ..., text9 and sent1, ..., sent9\n",
      "Type the name of the text or sentence to view it.\n",
      "Type: 'texts()' or 'sents()' to list the materials.\n",
      "text1: Moby Dick by Herman Melville 1851\n",
      "text2: Sense and Sensibility by Jane Austen 1811\n",
      "text3: The Book of Genesis\n",
      "text4: Inaugural Address Corpus\n",
      "text5: Chat Corpus\n",
      "text6: Monty Python and the Holy Grail\n",
      "text7: Wall Street Journal\n",
      "text8: Personals Corpus\n",
      "text9: The Man Who Was Thursday by G . K . Chesterton 1908\n"
     ]
    }
   ],
   "source": [
    "from nltk.book import *"
   ]
  },
  {
   "cell_type": "code",
   "execution_count": 36,
   "metadata": {},
   "outputs": [
    {
     "name": "stdout",
     "output_type": "stream",
     "text": [
      "Displaying 11 of 11 matches:\n",
      "ong the former , one was of a most monstrous size . ... This came towards us , \n",
      "ON OF THE PSALMS . \" Touching that monstrous bulk of the whale or ork we have r\n",
      "ll over with a heathenish array of monstrous clubs and spears . Some were thick\n",
      "d as you gazed , and wondered what monstrous cannibal and savage could ever hav\n",
      "that has survived the flood ; most monstrous and most mountainous ! That Himmal\n",
      "they might scout at Moby Dick as a monstrous fable , or still worse and more de\n",
      "th of Radney .'\" CHAPTER 55 Of the Monstrous Pictures of Whales . I shall ere l\n",
      "ing Scenes . In connexion with the monstrous pictures of whales , I am strongly\n",
      "ere to enter upon those still more monstrous stories of them which are to be fo\n",
      "ght have been rummaged out of this monstrous cabinet there is no telling . But \n",
      "of Whale - Bones ; for Whales of a monstrous size are oftentimes cast up dead u\n"
     ]
    }
   ],
   "source": [
    "#concordances will print all occurances of a word along with the same context\n",
    "text1.concordance('monstrous')"
   ]
  },
  {
   "cell_type": "code",
   "execution_count": 37,
   "metadata": {},
   "outputs": [
    {
     "name": "stdout",
     "output_type": "stream",
     "text": [
      "Displaying 11 of 11 matches:\n",
      ". \" Now , Palmer , you shall see a monstrous pretty girl .\" He immediately went\n",
      "your sister is to marry him . I am monstrous glad of it , for then I shall have\n",
      "ou may tell your sister . She is a monstrous lucky girl to get him , upon my ho\n",
      "k how you will like them . Lucy is monstrous pretty , and so good humoured and \n",
      " Jennings , \" I am sure I shall be monstrous glad of Miss Marianne ' s company \n",
      " usual noisy cheerfulness , \" I am monstrous glad to see you -- sorry I could n\n",
      "t however , as it turns out , I am monstrous glad there was never any thing in \n",
      "so scornfully ! for they say he is monstrous fond of her , as well he may . I s\n",
      "possible that she should .\" \" I am monstrous glad of it . Good gracious ! I hav\n",
      "thing of the kind . So then he was monstrous happy , and talked on some time ab\n",
      "e very genteel people . He makes a monstrous deal of money , and they keep thei\n"
     ]
    }
   ],
   "source": [
    "text2.concordance('monstrous')"
   ]
  },
  {
   "cell_type": "markdown",
   "metadata": {},
   "source": [
    "#to check concordances for your own text add it to the gutenberg folder\n",
    "#these few fucntions work only on the data available in g'berg"
   ]
  },
  {
   "cell_type": "code",
   "execution_count": 43,
   "metadata": {},
   "outputs": [
    {
     "data": {
      "image/png": "[encoded data removed]",
      "text/plain": [
       "<Figure size 432x288 with 1 Axes>"
      ]
     },
     "metadata": {},
     "output_type": "display_data"
    }
   ],
   "source": [
    "import matplotlib.pyplot\n",
    "%matplotlib inline\n",
    "text4.dispersion_plot([\"citizens\",\"democracy\",\"duties\",\"America\",\"freedom\"])\n"
   ]
  },
  {
   "cell_type": "markdown",
   "metadata": {},
   "source": [
    "desitiy for citizens is consistent \n",
    "that for democracy is sparse in the beginning but tdense later implying\n",
    "it has been used more recently\n",
    "offset: loc from beginning of the corpus"
   ]
  },
  {
   "cell_type": "markdown",
   "metadata": {},
   "source": [
    "<h1>TF-IDF</h1>"
   ]
  },
  {
   "cell_type": "code",
   "execution_count": 44,
   "metadata": {},
   "outputs": [],
   "source": [
    "articles = [\"this car got the excellence award\",\\\n",
    "         \"good car gives good mileage\",\\\n",
    "         \"this car is very expensive\",\\\n",
    "         \"the company is growing with very high production\",\\\n",
    "         \"this company is financially good\",\n",
    "         \"this company needs good management\",\n",
    "         \"this company is reeling under losses\"]"
   ]
  },
  {
   "cell_type": "code",
   "execution_count": 45,
   "metadata": {},
   "outputs": [
    {
     "data": {
      "text/plain": [
       "['this car got the excellence award',\n",
       " 'good car gives good mileage',\n",
       " 'this car is very expensive',\n",
       " 'the company is growing with very high production',\n",
       " 'this company is financially good',\n",
       " 'this company needs good management',\n",
       " 'this company is reeling under losses']"
      ]
     },
     "execution_count": 45,
     "metadata": {},
     "output_type": "execute_result"
    }
   ],
   "source": [
    "articles"
   ]
  },
  {
   "cell_type": "code",
   "execution_count": 46,
   "metadata": {},
   "outputs": [],
   "source": [
    "from sklearn.feature_extraction.text import TfidfVectorizer"
   ]
  },
  {
   "cell_type": "code",
   "execution_count": 47,
   "metadata": {},
   "outputs": [],
   "source": [
    "vocabulary = set()\n",
    "for doc in articles:\n",
    "    vocabulary.update(doc.split())"
   ]
  },
  {
   "cell_type": "code",
   "execution_count": 50,
   "metadata": {},
   "outputs": [
    {
     "name": "stdout",
     "output_type": "stream",
     "text": [
      "<class 'set'>\n",
      "\n",
      " {'car', 'excellence', 'good', 'with', 'production', 'financially', 'reeling', 'got', 'losses', 'needs', 'high', 'expensive', 'gives', 'company', 'the', 'management', 'this', 'mileage', 'is', 'under', 'award', 'very', 'growing'}\n"
     ]
    }
   ],
   "source": [
    "print(type(vocabulary))\n",
    "print(\"\\n\",vocabulary)"
   ]
  },
  {
   "cell_type": "code",
   "execution_count": 51,
   "metadata": {},
   "outputs": [
    {
     "name": "stdout",
     "output_type": "stream",
     "text": [
      "['car', 'excellence', 'good', 'with', 'production', 'financially', 'reeling', 'got', 'losses', 'needs', 'high', 'expensive', 'gives', 'company', 'the', 'management', 'this', 'mileage', 'is', 'under', 'award', 'very', 'growing']\n"
     ]
    }
   ],
   "source": [
    "vocabulary = list(vocabulary)\n",
    "print(vocabulary)"
   ]
  },
  {
   "cell_type": "code",
   "execution_count": 52,
   "metadata": {},
   "outputs": [],
   "source": [
    "tfidf = TfidfVectorizer(vocabulary=vocabulary)"
   ]
  },
  {
   "cell_type": "code",
   "execution_count": 53,
   "metadata": {},
   "outputs": [
    {
     "data": {
      "text/plain": [
       "TfidfVectorizer(analyzer='word', binary=False, decode_error='strict',\n",
       "        dtype=<class 'numpy.int64'>, encoding='utf-8', input='content',\n",
       "        lowercase=True, max_df=1.0, max_features=None, min_df=1,\n",
       "        ngram_range=(1, 1), norm='l2', preprocessor=None, smooth_idf=True,\n",
       "        stop_words=None, strip_accents=None, sublinear_tf=False,\n",
       "        token_pattern='(?u)\\\\b\\\\w\\\\w+\\\\b', tokenizer=None, use_idf=True,\n",
       "        vocabulary=['car', 'excellence', 'good', 'with', 'production', 'financially', 'reeling', 'got', 'losses', 'needs', 'high', 'expensive', 'gives', 'company', 'the', 'management', 'this', 'mileage', 'is', 'under', 'award', 'very', 'growing'])"
      ]
     },
     "execution_count": 53,
     "metadata": {},
     "output_type": "execute_result"
    }
   ],
   "source": [
    "tfidf"
   ]
  },
  {
   "cell_type": "code",
   "execution_count": 54,
   "metadata": {},
   "outputs": [
    {
     "data": {
      "text/plain": [
       "<7x23 sparse matrix of type '<class 'numpy.float64'>'\n",
       "\twith 39 stored elements in Compressed Sparse Row format>"
      ]
     },
     "execution_count": 54,
     "metadata": {},
     "output_type": "execute_result"
    }
   ],
   "source": [
    "tfidf.fit(articles)\n",
    "tfidf.transform(articles)"
   ]
  },
  {
   "cell_type": "code",
   "execution_count": 57,
   "metadata": {},
   "outputs": [
    {
     "name": "stdout",
     "output_type": "stream",
     "text": [
      "this car got the excellence award\n",
      "\t [('got', 0.47226269787430863), ('excellence', 0.47226269787430863), ('award', 0.47226269787430863), ('the', 0.3920185968241786), ('car', 0.3350845010647643), ('this', 0.2548404000146342)]\n",
      "good car gives good mileage\n",
      "\t [('good', 0.6676791201141254), ('gives', 0.47050809807299504), ('mileage', 0.47050809807299504), ('car', 0.3338395600570627)]\n",
      "this car is very expensive\n",
      "\t [('expensive', 0.5909880283216496), ('very', 0.490570817143389), ('car', 0.4193236719663896), ('is', 0.36406009276487544), ('this', 0.3189064607881289)]\n",
      "the company is growing with very high production\n",
      "\t [('growing', 0.40366430545532817), ('with', 0.40366430545532817), ('high', 0.40366430545532817), ('production', 0.40366430545532817), ('the', 0.33507603993470714), ('very', 0.33507603993470714), ('company', 0.24866504471720496), ('is', 0.24866504471720496)]\n",
      "this company is financially good\n",
      "\t [('financially', 0.6257854552489818), ('good', 0.4440134865394346), ('company', 0.38549598294884485), ('is', 0.38549598294884485), ('this', 0.3376837011620901)]\n",
      "this company needs good management\n",
      "\t [('needs', 0.5612932908267104), ('management', 0.5612932908267104), ('good', 0.3982543680757209), ('company', 0.345767558282007), ('this', 0.3028827121084186)]\n",
      "this company is reeling under losses\n",
      "\t [('reeling', 0.4968951005309156), ('under', 0.4968951005309156), ('losses', 0.4968951005309156), ('company', 0.30609702350051876), ('is', 0.30609702350051876), ('this', 0.26813243297549694)]\n"
     ]
    }
   ],
   "source": [
    "import operator\n",
    "final = {}\n",
    "for doc in articles:\n",
    "    score={}\n",
    "    print (doc)\n",
    "    #transform a document into tf-idf coordinates\n",
    "    x = tfidf.transform([doc])\n",
    "    for word in doc.split():\n",
    "        score[word] = x[0, tfidf.vocabulary_[word]]\n",
    "    sortedscore = sorted(score.items(), key=operator.itemgetter(1),reverse=True)\n",
    "    print(\"\\t\", sortedscore)    "
   ]
  },
  {
   "cell_type": "code",
   "execution_count": null,
   "metadata": {},
   "outputs": [],
   "source": []
  }
 ],
 "metadata": {
  "kernelspec": {
   "display_name": "Python 3",
   "language": "python",
   "name": "python3"
  },
  "language_info": {
   "codemirror_mode": {
    "name": "ipython",
    "version": 3
   },
   "file_extension": ".py",
   "mimetype": "text/x-python",
   "name": "python",
   "nbconvert_exporter": "python",
   "pygments_lexer": "ipython3",
   "version": "3.6.5"
  }
 },
 "nbformat": 4,
 "nbformat_minor": 2
}
